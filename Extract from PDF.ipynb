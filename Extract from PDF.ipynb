{
 "cells": [
  {
   "cell_type": "markdown",
   "id": "3bfc7c62",
   "metadata": {},
   "source": [
    "# Approach 1: PyMuPDF"
   ]
  },
  {
   "cell_type": "code",
   "execution_count": 1,
   "id": "bc249232",
   "metadata": {},
   "outputs": [],
   "source": [
    "# !pip install pymupdf"
   ]
  },
  {
   "cell_type": "code",
   "execution_count": 2,
   "id": "c058f3dc",
   "metadata": {},
   "outputs": [
    {
     "name": "stdout",
     "output_type": "stream",
     "text": [
      "PyMuPDF 1.25.2: Python bindings for the MuPDF 1.25.2 library (rebased implementation).\n",
      "Python 3.11 running on darwin (64-bit).\n",
      "\n"
     ]
    }
   ],
   "source": [
    "import fitz\n",
    "print(fitz.__doc__)"
   ]
  },
  {
   "cell_type": "code",
   "execution_count": 3,
   "id": "5e69fd6b",
   "metadata": {},
   "outputs": [],
   "source": [
    "import fitz\n",
    "import os\n",
    "\n",
    "# Create a folder for images if it doesn't exist\n",
    "if not os.path.exists(\"images\"):\n",
    "    os.makedirs(\"images\")\n",
    "    \n",
    "def extract_data_from_pdf(sourse_filename, dest_image_folder_name=\"images\", dest_text_filename=\"output.txt\"):\n",
    "    # Open the PDF document\n",
    "    doc = fitz.open(sourse_filename)\n",
    "\n",
    "    # Open a text file to save the extracted text\n",
    "    with open(dest_text_filename, \"w\", encoding=\"utf-8\") as text_file:\n",
    "        for page_number, page in enumerate(doc, start=1):\n",
    "            # Extract text from the page\n",
    "            text = page.get_text()\n",
    "            text_file.write(f\"--- Page {page_number} ---\\n\")\n",
    "            text_file.write(text)\n",
    "            text_file.write(\"\\n\\n\")\n",
    "\n",
    "            # Extract images from the page\n",
    "            for img_index, img in enumerate(page.get_images(full=True), start=1):\n",
    "                xref = img[0]\n",
    "                base_image = doc.extract_image(xref)\n",
    "                image_bytes = base_image[\"image\"]\n",
    "                image_extension = base_image[\"ext\"]  # Get image extension (e.g., 'png', 'jpeg')\n",
    "                image_filename = f\"{dest_image_folder_name}/page_{page_number}_image_{img_index}.{image_extension}\"\n",
    "\n",
    "                # Save the image file\n",
    "                with open(image_filename, \"wb\") as img_file:\n",
    "                    img_file.write(image_bytes)\n",
    "\n",
    "    print(f\"Text saved to '{dest_text_filename}' and images saved to the '{dest_image_folder_name}' folder.\")"
   ]
  },
  {
   "cell_type": "markdown",
   "id": "10616e61",
   "metadata": {},
   "source": [
    "### Extract from PDF with Unstructured Data like images, table, equations"
   ]
  },
  {
   "cell_type": "code",
   "execution_count": 4,
   "id": "4f790e99",
   "metadata": {},
   "outputs": [
    {
     "name": "stdout",
     "output_type": "stream",
     "text": [
      "Text saved to 'PDF_with_unstructured_Data.txt' and images saved to the 'images' folder.\n"
     ]
    }
   ],
   "source": [
    "extract_data_from_pdf(\"PDF_with_unstructured_Data.pdf\", \"images\", \"PDF_with_unstructured_Data.txt\")"
   ]
  },
  {
   "cell_type": "markdown",
   "id": "91a3d16e",
   "metadata": {},
   "source": [
    "### Extract from PDF with text data only"
   ]
  },
  {
   "cell_type": "code",
   "execution_count": 5,
   "id": "5fb50d56",
   "metadata": {},
   "outputs": [
    {
     "name": "stdout",
     "output_type": "stream",
     "text": [
      "Text saved to 'text_output.txt' and images saved to the 'text_images' folder.\n"
     ]
    }
   ],
   "source": [
    "extract_data_from_pdf(\"Simple Text Data.pdf\", \"text_images\", \"text_output.txt\")"
   ]
  },
  {
   "cell_type": "code",
   "execution_count": null,
   "id": "ce200d7d",
   "metadata": {},
   "outputs": [],
   "source": []
  }
 ],
 "metadata": {
  "kernelspec": {
   "display_name": "Python 3 (ipykernel)",
   "language": "python",
   "name": "python3"
  },
  "language_info": {
   "codemirror_mode": {
    "name": "ipython",
    "version": 3
   },
   "file_extension": ".py",
   "mimetype": "text/x-python",
   "name": "python",
   "nbconvert_exporter": "python",
   "pygments_lexer": "ipython3",
   "version": "3.11.5"
  }
 },
 "nbformat": 4,
 "nbformat_minor": 5
}
